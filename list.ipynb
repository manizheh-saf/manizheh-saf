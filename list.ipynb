{
  "nbformat": 4,
  "nbformat_minor": 0,
  "metadata": {
    "colab": {
      "provenance": [],
      "gpuType": "T4",
      "authorship_tag": "ABX9TyPiQLKnUFX5cQCZQl7AmtHf",
      "include_colab_link": true
    },
    "kernelspec": {
      "name": "python3",
      "display_name": "Python 3"
    },
    "language_info": {
      "name": "python"
    },
    "accelerator": "GPU"
  },
  "cells": [
    {
      "cell_type": "markdown",
      "metadata": {
        "id": "view-in-github",
        "colab_type": "text"
      },
      "source": [
        "<a href=\"https://colab.research.google.com/github/manizheh-saf/manizheh-saf/blob/main/list.ipynb\" target=\"_parent\"><img src=\"https://colab.research.google.com/assets/colab-badge.svg\" alt=\"Open In Colab\"/></a>"
      ]
    },
    {
      "cell_type": "markdown",
      "source": [
        "\n",
        "\n",
        "نحوه اعلان List در پایتون به صورت زیر است:\n",
        "\n"
      ],
      "metadata": {
        "id": "_PgUIbJ6s6tA"
      }
    },
    {
      "cell_type": "code",
      "source": [
        "list1 = [1, 2, \"Python\", \"Program\", 15.9]\n",
        "list2 = [\"Amy\", \"Ryan\", \"Henry\", \"Emma\"]\n",
        "\n",
        "print(list1)\n",
        "print(list2)\n",
        "\n",
        "print(type(list1))\n",
        "print(type(list2))\n"
      ],
      "metadata": {
        "colab": {
          "base_uri": "https://localhost:8080/"
        },
        "id": "9ykz2l72mWpt",
        "outputId": "c16cf8fc-6b61-4216-eca0-5e36127e98d5"
      },
      "execution_count": 38,
      "outputs": [
        {
          "output_type": "stream",
          "name": "stdout",
          "text": [
            "[1, 2, 'Python', 'Program', 15.9]\n",
            "['Amy', 'Ryan', 'Henry', 'Emma']\n",
            "<class 'list'>\n",
            "<class 'list'>\n"
          ]
        }
      ]
    },
    {
      "cell_type": "markdown",
      "source": [
        "ترتیب عناصر در لیست"
      ],
      "metadata": {
        "id": "p9NSMG8NtP2i"
      }
    },
    {
      "cell_type": "code",
      "source": [
        "a = [1, 2, \"Ram\", 3.50, \"Rahul\", 5, 6]\n",
        "b = [1, 2, 5, \"Ram\", 3.50, \"Rahul\", 6]\n",
        "result = a == b\n",
        "print(result)\n"
      ],
      "metadata": {
        "colab": {
          "base_uri": "https://localhost:8080/"
        },
        "id": "m5WgL_H7mWmU",
        "outputId": "93a4e2ad-8193-4ec1-9afc-c4c6cd2668d7"
      },
      "execution_count": 39,
      "outputs": [
        {
          "output_type": "stream",
          "name": "stdout",
          "text": [
            "False\n"
          ]
        }
      ]
    },
    {
      "cell_type": "code",
      "source": [
        "a = [1, 2, \"Ram\", 3.50, \"Rahul\", 5, 6]\n",
        "b = [1, 2, \"Ram\", 3.50, \"Rahul\", 5, 6]\n",
        "result = a == b\n",
        "print(result)\n"
      ],
      "metadata": {
        "colab": {
          "base_uri": "https://localhost:8080/"
        },
        "id": "ZfQLKsYNmWjl",
        "outputId": "4db9e2c9-bf32-413b-e293-9000edff854f"
      },
      "execution_count": 40,
      "outputs": [
        {
          "output_type": "stream",
          "name": "stdout",
          "text": [
            "True\n"
          ]
        }
      ]
    },
    {
      "cell_type": "markdown",
      "source": [
        "مثال زیر نحوه کار با لیست در پایتون را نشان می‌دهد"
      ],
      "metadata": {
        "id": "CFXVYde5toat"
      }
    },
    {
      "cell_type": "code",
      "source": [
        "emp = [\"John\", 102, \"USA\"]\n",
        "Dep1 = [\"CS\", 10]\n",
        "Dep2 = [\"IT\", 11]\n",
        "HOD_CS = [10, \"Mr. Holding\"]\n",
        "HOD_IT = [11, \"Mr. Bewon\"]\n",
        "\n",
        "print(\"Printing employee data ...\")\n",
        "print(\"Name: %s, ID: %d, Country: %s\" % (emp[0], emp[1], emp[2]))\n",
        "\n",
        "print(\"Printing departments ...\")\n",
        "print(\"Department 1:\\nName: %s, ID: %d\\nDepartment 2:\\nName: %s, ID: %d\" % (Dep1[0], Dep1[1], Dep2[0], Dep2[1]))\n",
        "\n",
        "print(\"HOD Details ...\")\n",
        "print(\"CS HOD Name: %s, ID: %d\" % (HOD_CS[1], HOD_CS[0]))\n",
        "print(\"IT HOD Name: %s, ID: %d\" % (HOD_IT[1], HOD_IT[0]))\n",
        "\n",
        "print(type(emp), type(Dep1), type(Dep2), type(HOD_CS), type(HOD_IT))\n"
      ],
      "metadata": {
        "colab": {
          "base_uri": "https://localhost:8080/"
        },
        "id": "FerFl-oSmWgZ",
        "outputId": "52f390b1-954c-4f1d-f066-59139eb3091e"
      },
      "execution_count": 41,
      "outputs": [
        {
          "output_type": "stream",
          "name": "stdout",
          "text": [
            "Printing employee data ...\n",
            "Name: John, ID: 102, Country: USA\n",
            "Printing departments ...\n",
            "Department 1:\n",
            "Name: CS, ID: 10\n",
            "Department 2:\n",
            "Name: IT, ID: 11\n",
            "HOD Details ...\n",
            "CS HOD Name: Mr. Holding, ID: 10\n",
            "IT HOD Name: Mr. Bewon, ID: 11\n",
            "<class 'list'> <class 'list'> <class 'list'> <class 'list'> <class 'list'>\n"
          ]
        }
      ]
    },
    {
      "cell_type": "markdown",
      "source": [
        "برش یا Slicing"
      ],
      "metadata": {
        "id": "uE3Dzqflt4eP"
      }
    },
    {
      "cell_type": "code",
      "source": [
        "my_list = [1, 2, 3, 4, 5, 6, 7]\n",
        "print(my_list[0])\n",
        "print(my_list[1])\n",
        "print(my_list[2])\n",
        "print(my_list[3])\n",
        "\n",
        "print(my_list[0:6])  # From index 0 to index 5\n",
        "print(my_list[:])     # Complete list\n",
        "print(my_list[2:5])   # From index 2 to index 4\n",
        "print(my_list[1:6:2]) # From index 1 to index 5 with a step of 2\n"
      ],
      "metadata": {
        "colab": {
          "base_uri": "https://localhost:8080/"
        },
        "id": "g9xZ-ibfmWdp",
        "outputId": "6e289bd7-8a39-4925-d90d-b61c233ec4d6"
      },
      "execution_count": 42,
      "outputs": [
        {
          "output_type": "stream",
          "name": "stdout",
          "text": [
            "1\n",
            "2\n",
            "3\n",
            "4\n",
            "[1, 2, 3, 4, 5, 6]\n",
            "[1, 2, 3, 4, 5, 6, 7]\n",
            "[3, 4, 5]\n",
            "[2, 4, 6]\n"
          ]
        }
      ]
    },
    {
      "cell_type": "markdown",
      "source": [
        "اندیس بندی و برش منفی در لیست‌ها"
      ],
      "metadata": {
        "id": "KtkKq7ZMuFOY"
      }
    },
    {
      "cell_type": "code",
      "source": [
        "my_list = [1, 2, 3, 4, 5]\n",
        "\n",
        "print(my_list[-1])    # Access the last element\n",
        "print(my_list[-3:])   # Sub-list from index -3 to the end\n",
        "print(my_list[:-1])   # Sub-list from the beginning to index -2\n",
        "print(my_list[-3:-1]) # Sub-list from index -3 to index -2\n"
      ],
      "metadata": {
        "colab": {
          "base_uri": "https://localhost:8080/"
        },
        "id": "SjMBoyKRmWas",
        "outputId": "0543dee8-2505-4789-ca40-b5a2e6db0bb1"
      },
      "execution_count": 43,
      "outputs": [
        {
          "output_type": "stream",
          "name": "stdout",
          "text": [
            "5\n",
            "[3, 4, 5]\n",
            "[1, 2, 3, 4]\n",
            "[3, 4]\n"
          ]
        }
      ]
    },
    {
      "cell_type": "markdown",
      "source": [
        "به‌روزرسانی و حذف عناصر لیست در"
      ],
      "metadata": {
        "id": "8L5c8MjKuPXB"
      }
    },
    {
      "cell_type": "code",
      "source": [
        "my_list = [1, 2, 3, 4, 5, 6]\n",
        "print(my_list)\n",
        "\n",
        "# Updating a single element at a specific index\n",
        "my_list[2] = 10\n",
        "print(my_list)\n",
        "\n",
        "# Updating multiple elements using slicing\n",
        "my_list[1:3] = [89, 78]\n",
        "print(my_list)\n",
        "\n",
        "# Updating the last element\n",
        "my_list[-1] = 25\n",
        "print(my_list)\n"
      ],
      "metadata": {
        "colab": {
          "base_uri": "https://localhost:8080/"
        },
        "id": "pK442tLFmWTV",
        "outputId": "d3a771f2-d31c-4fb7-a21b-7f49bb06f18e"
      },
      "execution_count": 44,
      "outputs": [
        {
          "output_type": "stream",
          "name": "stdout",
          "text": [
            "[1, 2, 3, 4, 5, 6]\n",
            "[1, 2, 10, 4, 5, 6]\n",
            "[1, 89, 78, 4, 5, 6]\n",
            "[1, 89, 78, 4, 5, 25]\n"
          ]
        }
      ]
    },
    {
      "cell_type": "markdown",
      "source": [
        "حذف عناصر از یک لیست"
      ],
      "metadata": {
        "id": "k_vILL8Kue01"
      }
    },
    {
      "cell_type": "code",
      "source": [
        "# Deleting list elements\n",
        "my_list = [1, 2, 3, 4, 5, 6]\n",
        "print(my_list)\n",
        "\n",
        "# Deleting elements using del keyword\n",
        "del my_list[2]\n",
        "print(my_list)\n",
        "\n",
        "# Using the remove() method\n",
        "my_list.remove(4)\n",
        "print(my_list)\n"
      ],
      "metadata": {
        "colab": {
          "base_uri": "https://localhost:8080/"
        },
        "id": "T5csIVXimWIC",
        "outputId": "ca143de0-0aa8-4fb9-ffce-f2ca87dd2948"
      },
      "execution_count": 45,
      "outputs": [
        {
          "output_type": "stream",
          "name": "stdout",
          "text": [
            "[1, 2, 3, 4, 5, 6]\n",
            "[1, 2, 4, 5, 6]\n",
            "[1, 2, 5, 6]\n"
          ]
        }
      ]
    },
    {
      "cell_type": "code",
      "source": [
        "# Repetition of list\n",
        "list1 = [12, 14, 16, 18, 20]\n",
        "# Using repetition operator *\n",
        "repeated_list = list1 * 2\n",
        "print(repeated_list)\n"
      ],
      "metadata": {
        "colab": {
          "base_uri": "https://localhost:8080/"
        },
        "id": "6AnnQGQEmV7G",
        "outputId": "8f3bb896-2b3a-4c2e-9ec3-6197adbc49b9"
      },
      "execution_count": 46,
      "outputs": [
        {
          "output_type": "stream",
          "name": "stdout",
          "text": [
            "[12, 14, 16, 18, 20, 12, 14, 16, 18, 20]\n"
          ]
        }
      ]
    },
    {
      "cell_type": "markdown",
      "source": [
        "الحاق لیست‌ ها در پایتون"
      ],
      "metadata": {
        "id": "1UdIJBQjmyGp"
      }
    },
    {
      "cell_type": "code",
      "execution_count": 4,
      "metadata": {
        "colab": {
          "base_uri": "https://localhost:8080/"
        },
        "id": "dieG7eD_Jd0j",
        "outputId": "f37c9ccd-bd45-4d6e-9799-954d7d3caf7f"
      },
      "outputs": [
        {
          "output_type": "stream",
          "name": "stdout",
          "text": [
            "[12, 14, 16, 18, 20, 9, 10, 32, 54, 86]\n"
          ]
        }
      ],
      "source": [
        "# Concatenation of two lists\n",
        "list1 = [12, 14, 16, 18, 20]\n",
        "list2 = [9, 10, 32, 54, 86]\n",
        "concatenated_list = list1 + list2\n",
        "print(concatenated_list)\n"
      ]
    },
    {
      "cell_type": "markdown",
      "source": [
        "طول لیست در پایتون"
      ],
      "metadata": {
        "id": "L76nrdAbmw27"
      }
    },
    {
      "cell_type": "code",
      "source": [
        "# Size of the list\n",
        "list1 = [12, 14, 16, 18, 20, 23, 27, 39, 40]\n",
        "list_length = len(list1)\n",
        "print(list_length)\n"
      ],
      "metadata": {
        "colab": {
          "base_uri": "https://localhost:8080/"
        },
        "id": "YtE_wx8NmU4k",
        "outputId": "42b6f90a-61c4-4acb-a866-a14a9c1ec26d"
      },
      "execution_count": 7,
      "outputs": [
        {
          "output_type": "stream",
          "name": "stdout",
          "text": [
            "9\n"
          ]
        }
      ]
    },
    {
      "cell_type": "markdown",
      "source": [
        "پیمایش لیست در پایتون"
      ],
      "metadata": {
        "id": "QSH2ZdTsm3bQ"
      }
    },
    {
      "cell_type": "code",
      "source": [
        "# Iteration over the list\n",
        "list1 = [12, 14, 16, 39, 40]\n",
        "for item in list1:\n",
        "  print(item)\n"
      ],
      "metadata": {
        "colab": {
          "base_uri": "https://localhost:8080/"
        },
        "id": "u7BMgvh6X1Nx",
        "outputId": "445b8be0-14bd-4d5d-e6e4-7f6157bf4312"
      },
      "execution_count": 6,
      "outputs": [
        {
          "output_type": "stream",
          "name": "stdout",
          "text": [
            "12\n",
            "14\n",
            "16\n",
            "39\n",
            "40\n"
          ]
        }
      ]
    },
    {
      "cell_type": "markdown",
      "source": [
        "عضویت در لیست‌ های پایتون"
      ],
      "metadata": {
        "id": "5txBCMuFnMFt"
      }
    },
    {
      "cell_type": "code",
      "source": [
        "# Membership of the list\n",
        "list1 = [100, 200, 300, 400, 500]\n",
        "# Checking membership\n",
        "print(600 in list1)   # False\n",
        "print(700 in list1)   # False\n",
        "print(1040 in list1)  # False\n",
        "print(300 in list1)   # True\n",
        "print(100 in list1)   # True\n",
        "print(500 in list1)   # True\n"
      ],
      "metadata": {
        "colab": {
          "base_uri": "https://localhost:8080/"
        },
        "id": "0AvDjMlMnBgk",
        "outputId": "c55483a9-2d2f-4845-9fe3-87fe16ab2b5d"
      },
      "execution_count": 8,
      "outputs": [
        {
          "output_type": "stream",
          "name": "stdout",
          "text": [
            "False\n",
            "False\n",
            "False\n",
            "True\n",
            "True\n",
            "True\n"
          ]
        }
      ]
    },
    {
      "cell_type": "markdown",
      "source": [
        "لیست‌های پایتون را می‌توان با استفاده از حلقه «for» در پایتون پیمایش کرد.\n",
        "\n"
      ],
      "metadata": {
        "id": "-S_ExnXknqZM"
      }
    },
    {
      "cell_type": "code",
      "source": [
        "# Iterating a list\n",
        "my_list = [\"John\", \"David\", \"James\", \"Jonathan\"]\n",
        "for item in my_list:\n",
        "    print(item)\n"
      ],
      "metadata": {
        "colab": {
          "base_uri": "https://localhost:8080/"
        },
        "id": "lT8fMrKXnXlD",
        "outputId": "7fc6d0b4-0bd6-4b4f-dc33-d29ff094d414"
      },
      "execution_count": 9,
      "outputs": [
        {
          "output_type": "stream",
          "name": "stdout",
          "text": [
            "John\n",
            "David\n",
            "James\n",
            "Jonathan\n"
          ]
        }
      ]
    },
    {
      "cell_type": "markdown",
      "source": [
        "افزودن عناصر به لیست"
      ],
      "metadata": {
        "id": "UKN4Xfmmn5H0"
      }
    },
    {
      "cell_type": "code",
      "source": [
        "# Declaring an empty list\n",
        "l = []\n",
        "# Number of elements to be entered by the user\n",
        "n = int(input(\"Enter the number of elements in the list:\"))\n",
        "# Loop to take user input and add items to the list\n",
        "for i in range(0, n):\n",
        "  item = input(\"Enter the item:\")\n",
        "  l.append(item)\n",
        "print(\"Printing the list items:\")\n",
        "# Loop to print the list items\n",
        "for item in l:\n",
        "    print(item)\n"
      ],
      "metadata": {
        "colab": {
          "base_uri": "https://localhost:8080/"
        },
        "id": "Aa1ywFign1j6",
        "outputId": "cfbb7e2f-6d85-41e4-a119-df6f87b6531a"
      },
      "execution_count": 18,
      "outputs": [
        {
          "output_type": "stream",
          "name": "stdout",
          "text": [
            "Enter the number of elements in the list:4\n",
            "Enter the item:apple\n",
            "Enter the item:orange\n",
            "Enter the item:kiwi\n",
            "Enter the item:mellon\n",
            "Printing the list items:\n",
            "apple\n",
            "orange\n",
            "kiwi\n",
            "mellon\n"
          ]
        }
      ]
    },
    {
      "cell_type": "markdown",
      "source": [
        "حذف عناصر از لیست در Python"
      ],
      "metadata": {
        "id": "20RWBcGkppRh"
      }
    },
    {
      "cell_type": "code",
      "source": [
        "my_list = [0, 1, 2, 3, 4]\n",
        "print(\"Original list:\", my_list)\n",
        "my_list.remove(2)\n",
        "print(\"List after removing element 2:\", my_list)\n"
      ],
      "metadata": {
        "colab": {
          "base_uri": "https://localhost:8080/"
        },
        "id": "3zF1XwTYpvUh",
        "outputId": "007361c9-cb46-4be6-deef-eb378bba8841"
      },
      "execution_count": 19,
      "outputs": [
        {
          "output_type": "stream",
          "name": "stdout",
          "text": [
            "Original list: [0, 1, 2, 3, 4]\n",
            "List after removing element 2: [0, 1, 3, 4]\n"
          ]
        }
      ]
    },
    {
      "cell_type": "markdown",
      "source": [
        "توابع لیست در پایتون"
      ],
      "metadata": {
        "id": "PnpYd3X_p41l"
      }
    },
    {
      "cell_type": "code",
      "source": [
        "list1 = [12, 16, 18, 20, 39, 40]\n",
        "list_length = len(list1)\n",
        "print(\"list_length=\", list_length)\n",
        "\n",
        "maximum = max(list1)\n",
        "print(\"maximum=\",maximum)\n",
        "\n",
        "minimum = min(list1)\n",
        "print(\"minimum=\" ,minimum)\n",
        "\n",
        "\n",
        "\n",
        ""
      ],
      "metadata": {
        "colab": {
          "base_uri": "https://localhost:8080/"
        },
        "id": "j13pUIpQp_1H",
        "outputId": "c4fb5001-655c-4195-a8ea-a42d6524b4f1"
      },
      "execution_count": 21,
      "outputs": [
        {
          "output_type": "stream",
          "name": "stdout",
          "text": [
            "list_length= 6\n",
            "maximum= 40\n",
            "minimum= 12\n"
          ]
        }
      ]
    },
    {
      "cell_type": "markdown",
      "source": [
        "مثال ١: حذف موارد تکراری از لیست"
      ],
      "metadata": {
        "id": "tdMymKi-q0A7"
      }
    },
    {
      "cell_type": "code",
      "source": [
        "list1 = [1, 2, 2, 3, 55, 98, 65, 65, 13, 29]\n",
        "list2 = []\n",
        "for item in list1:\n",
        "    if item not in list2:\n",
        "        list2.append(item)\n",
        "print(list2)\n"
      ],
      "metadata": {
        "colab": {
          "base_uri": "https://localhost:8080/"
        },
        "id": "08yBZm7lq3Hh",
        "outputId": "7dc8aa23-911c-4f0f-b1d5-2dc26015b917"
      },
      "execution_count": 24,
      "outputs": [
        {
          "output_type": "stream",
          "name": "stdout",
          "text": [
            "[1, 2, 3, 55, 98, 65, 13, 29]\n"
          ]
        }
      ]
    },
    {
      "cell_type": "markdown",
      "source": [
        "مثال ٢: یافتن مجموع عناصر لیست در پایتون"
      ],
      "metadata": {
        "id": "uxFK-wqErPBP"
      }
    },
    {
      "cell_type": "code",
      "source": [
        "list1 = [3, 4, 5, 9, 10, 12, 24]\n",
        "sum_result = 0\n",
        "for item in list1:\n",
        " sum_result += item\n",
        "print(\"The sum is:\", sum_result)\n"
      ],
      "metadata": {
        "colab": {
          "base_uri": "https://localhost:8080/"
        },
        "id": "RkuawWlvrRwX",
        "outputId": "08f1f0a9-ca54-4922-c499-5d3c0f875f6e"
      },
      "execution_count": 26,
      "outputs": [
        {
          "output_type": "stream",
          "name": "stdout",
          "text": [
            "The sum is: 67\n"
          ]
        }
      ]
    },
    {
      "cell_type": "markdown",
      "source": [
        "مثال ٣: یافتن عناصر مشترک بین دو لیست"
      ],
      "metadata": {
        "id": "xwKOvd5MravL"
      }
    },
    {
      "cell_type": "code",
      "source": [
        "list1 = [1, 2, 3, 4, 5, 6]\n",
        "list2 = [7, 8, 9, 2, 10]\n",
        "for x in list1:\n",
        " for y in list2:\n",
        "  if x == y:\n",
        "   print(\"The common element is:\", x)\n"
      ],
      "metadata": {
        "colab": {
          "base_uri": "https://localhost:8080/"
        },
        "id": "-98PS9z7reOJ",
        "outputId": "98b9f70e-77dd-43e3-c9ac-eb445b769276"
      },
      "execution_count": 35,
      "outputs": [
        {
          "output_type": "stream",
          "name": "stdout",
          "text": [
            "The common element is: 2\n"
          ]
        }
      ]
    }
  ]
}