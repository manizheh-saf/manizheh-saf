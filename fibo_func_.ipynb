{
  "nbformat": 4,
  "nbformat_minor": 0,
  "metadata": {
    "colab": {
      "provenance": [],
      "authorship_tag": "ABX9TyOIkbMl0eqOjxc0unb4cey9",
      "include_colab_link": true
    },
    "kernelspec": {
      "name": "python3",
      "display_name": "Python 3"
    },
    "language_info": {
      "name": "python"
    }
  },
  "cells": [
    {
      "cell_type": "markdown",
      "metadata": {
        "id": "view-in-github",
        "colab_type": "text"
      },
      "source": [
        "<a href=\"https://colab.research.google.com/github/manizheh-saf/manizheh-saf/blob/main/fibo_func_.ipynb\" target=\"_parent\"><img src=\"https://colab.research.google.com/assets/colab-badge.svg\" alt=\"Open In Colab\"/></a>"
      ]
    },
    {
      "cell_type": "code",
      "execution_count": 20,
      "metadata": {
        "colab": {
          "base_uri": "https://localhost:8080/"
        },
        "id": "5d8X-MzzjHPi",
        "outputId": "07501982-d504-4d1d-ce60-58f24d86b51d"
      },
      "outputs": [
        {
          "output_type": "execute_result",
          "data": {
            "text/plain": [
              "21"
            ]
          },
          "metadata": {},
          "execution_count": 20
        }
      ],
      "source": [
        "def fibDirect(n):\n",
        "\ta = 1\n",
        "\tb = 1\n",
        "\ttemp = 0\n",
        "\n",
        "\tfor x in range(2,n):\n",
        "\t\ttemp = b\n",
        "\t\tb = a + b\n",
        "\t\ta = temp\n",
        "\n",
        "\treturn b\n",
        "fibDirect(8)\n"
      ]
    }
  ]
}