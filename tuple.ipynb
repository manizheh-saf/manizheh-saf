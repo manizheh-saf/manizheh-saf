{
  "nbformat": 4,
  "nbformat_minor": 0,
  "metadata": {
    "colab": {
      "provenance": [],
      "authorship_tag": "ABX9TyNcR9RjkoZwH6FYzFjby3wd",
      "include_colab_link": true
    },
    "kernelspec": {
      "name": "python3",
      "display_name": "Python 3"
    },
    "language_info": {
      "name": "python"
    }
  },
  "cells": [
    {
      "cell_type": "markdown",
      "metadata": {
        "id": "view-in-github",
        "colab_type": "text"
      },
      "source": [
        "<a href=\"https://colab.research.google.com/github/manizheh-saf/manizheh-saf/blob/main/tuple.ipynb\" target=\"_parent\"><img src=\"https://colab.research.google.com/assets/colab-badge.svg\" alt=\"Open In Colab\"/></a>"
      ]
    },
    {
      "cell_type": "markdown",
      "source": [
        "ساختار تاپل"
      ],
      "metadata": {
        "id": "4LIL52mx68yV"
      }
    },
    {
      "cell_type": "code",
      "source": [
        "Tup = ('Jan','feb','march')\n",
        "tup1 = ();"
      ],
      "metadata": {
        "id": "lFL5yMny69Wj"
      },
      "execution_count": 2,
      "outputs": []
    },
    {
      "cell_type": "markdown",
      "source": [
        "برای نوشتن یک تاپل با یک مقدار، باید یک کاما هم قرار داد، حتی اگر تنها یک مقدار وجود داشته باشد. همچنین در پایان باید یک سمی کالن (;) همانند کد زیر قرار دهید."
      ],
      "metadata": {
        "id": "yFzjAhuE7Jzd"
      }
    },
    {
      "cell_type": "markdown",
      "source": [
        "Allow Duplicates"
      ],
      "metadata": {
        "id": "DDB83DOM_qtb"
      }
    },
    {
      "cell_type": "code",
      "source": [
        "thistuple = (\"apple\", \"banana\", \"cherry\", \"apple\", \"cherry\")\n",
        "print(thistuple)"
      ],
      "metadata": {
        "colab": {
          "base_uri": "https://localhost:8080/"
        },
        "id": "LM6qhluJ_nzb",
        "outputId": "26e5b818-7769-4332-e216-bf2792e3b9b3"
      },
      "execution_count": 14,
      "outputs": [
        {
          "output_type": "stream",
          "name": "stdout",
          "text": [
            "('apple', 'banana', 'cherry', 'apple', 'cherry')\n"
          ]
        }
      ]
    },
    {
      "cell_type": "code",
      "source": [
        "Tup1 = (50,);\n"
      ],
      "metadata": {
        "id": "-XVPoHzW7KjO"
      },
      "execution_count": 3,
      "outputs": []
    },
    {
      "cell_type": "markdown",
      "source": [
        "Indexing"
      ],
      "metadata": {
        "id": "vzqVl2gi_58E"
      }
    },
    {
      "cell_type": "code",
      "source": [
        "thistuple = (\"apple\", \"banana\", \"cherry\")\n",
        "print(thistuple[1])\n",
        "\n",
        "thistuple = (\"apple\", \"banana\", \"cherry\")\n",
        "print(thistuple[-1])\n",
        "\n",
        "thistuple = (\"apple\", \"banana\", \"cherry\", \"orange\", \"kiwi\", \"melon\", \"mango\")\n",
        "print(thistuple[2:5])\n",
        "\n",
        "thistuple = (\"apple\", \"banana\", \"cherry\", \"orange\", \"kiwi\", \"melon\", \"mango\")\n",
        "print(thistuple[:4])\n",
        "\n",
        "thistuple = (\"apple\", \"banana\", \"cherry\", \"orange\", \"kiwi\", \"melon\", \"mango\")\n",
        "print(thistuple[2:])"
      ],
      "metadata": {
        "colab": {
          "base_uri": "https://localhost:8080/"
        },
        "id": "Cgi_tjHy_8C7",
        "outputId": "cf3a58d5-a094-474a-d471-f7492410dc1f"
      },
      "execution_count": 17,
      "outputs": [
        {
          "output_type": "stream",
          "name": "stdout",
          "text": [
            "banana\n",
            "cherry\n",
            "('cherry', 'orange', 'kiwi')\n",
            "('apple', 'banana', 'cherry', 'orange')\n",
            "('cherry', 'orange', 'kiwi', 'melon', 'mango')\n"
          ]
        }
      ]
    },
    {
      "cell_type": "markdown",
      "source": [
        "Range of Negative Indexes"
      ],
      "metadata": {
        "id": "umAfoPshARiq"
      }
    },
    {
      "cell_type": "code",
      "source": [
        "thistuple = (\"apple\", \"banana\", \"cherry\", \"orange\", \"kiwi\", \"melon\", \"mango\")\n",
        "print(thistuple[-4:-1])\n",
        "\n",
        "thistuple = (\"apple\", \"banana\", \"cherry\")\n",
        "if \"apple\" in thistuple:\n",
        "  print(\"Yes, 'apple' is in the fruits tuple\")"
      ],
      "metadata": {
        "colab": {
          "base_uri": "https://localhost:8080/"
        },
        "id": "bEca02nqASRR",
        "outputId": "292a88f9-f7cf-49ff-d410-dc57a5ccb631"
      },
      "execution_count": 19,
      "outputs": [
        {
          "output_type": "stream",
          "name": "stdout",
          "text": [
            "('orange', 'kiwi', 'melon')\n",
            "Yes, 'apple' is in the fruits tuple\n"
          ]
        }
      ]
    },
    {
      "cell_type": "markdown",
      "source": [
        "Change Tuple Values"
      ],
      "metadata": {
        "id": "KQPApXFbAni9"
      }
    },
    {
      "cell_type": "code",
      "source": [
        "x = (\"apple\", \"banana\", \"cherry\")\n",
        "y = list(x)\n",
        "y[1] = \"kiwi\"\n",
        "x = tuple(y)\n",
        "\n",
        "print(x)"
      ],
      "metadata": {
        "colab": {
          "base_uri": "https://localhost:8080/"
        },
        "id": "_RJ1A6NvAtG_",
        "outputId": "0a8de8ca-22cd-411d-975a-f22a3f2574cc"
      },
      "execution_count": 20,
      "outputs": [
        {
          "output_type": "stream",
          "name": "stdout",
          "text": [
            "('apple', 'kiwi', 'cherry')\n"
          ]
        }
      ]
    },
    {
      "cell_type": "markdown",
      "source": [
        "Add Items"
      ],
      "metadata": {
        "id": "7mBpcVqwAw88"
      }
    },
    {
      "cell_type": "code",
      "source": [
        "thistuple = (\"apple\", \"banana\", \"cherry\")\n",
        "y = list(thistuple)\n",
        "y.append(\"orange\")\n",
        "thistuple = tuple(y)\n",
        "print(thistuple)"
      ],
      "metadata": {
        "colab": {
          "base_uri": "https://localhost:8080/"
        },
        "id": "iCp0gl5HA07H",
        "outputId": "255a81b3-c308-4906-f0f4-f258b1b176e2"
      },
      "execution_count": 24,
      "outputs": [
        {
          "output_type": "stream",
          "name": "stdout",
          "text": [
            "('apple', 'banana', 'cherry', 'orange')\n"
          ]
        }
      ]
    },
    {
      "cell_type": "markdown",
      "source": [],
      "metadata": {
        "id": "OpEKpMfiA_Yf"
      }
    },
    {
      "cell_type": "code",
      "source": [
        "thistuple = (\"apple\", \"banana\", \"cherry\")\n",
        "y = (\"orange\",)\n",
        "thistuple += y\n",
        "\n",
        "print(thistuple)"
      ],
      "metadata": {
        "colab": {
          "base_uri": "https://localhost:8080/"
        },
        "id": "T-zG73GsBDkx",
        "outputId": "bd03f0d4-badc-44f7-9927-793fc841bc3d"
      },
      "execution_count": 23,
      "outputs": [
        {
          "output_type": "stream",
          "name": "stdout",
          "text": [
            "('apple', 'banana', 'cherry', 'orange')\n"
          ]
        }
      ]
    },
    {
      "cell_type": "markdown",
      "source": [
        "Remove Items"
      ],
      "metadata": {
        "id": "VMslOWPhBPvs"
      }
    },
    {
      "cell_type": "code",
      "source": [
        "thistuple = (\"apple\", \"banana\", \"cherry\")\n",
        "y = list(thistuple)\n",
        "y.remove(\"apple\")\n",
        "thistuple = tuple(y)\n",
        "print(thistuple)"
      ],
      "metadata": {
        "colab": {
          "base_uri": "https://localhost:8080/"
        },
        "id": "RxZGFthLBeud",
        "outputId": "2e9ce32d-cdcc-41be-fe63-664c11939765"
      },
      "execution_count": 26,
      "outputs": [
        {
          "output_type": "stream",
          "name": "stdout",
          "text": [
            "('banana', 'cherry')\n"
          ]
        }
      ]
    },
    {
      "cell_type": "markdown",
      "source": [
        "Or you can delete the tuple completely:"
      ],
      "metadata": {
        "id": "AqsNQvDvBvDC"
      }
    },
    {
      "cell_type": "code",
      "source": [
        "thistuple = (\"apple\", \"banana\", \"cherry\")\n",
        "del thistuple\n",
        "print(thistuple)\n",
        " #this will raise an error because the tuple no longer exists"
      ],
      "metadata": {
        "colab": {
          "base_uri": "https://localhost:8080/",
          "height": 227
        },
        "id": "cM5B_hufBwTg",
        "outputId": "418780eb-de77-4bf8-dbe3-d5b6ba4abf5d"
      },
      "execution_count": 28,
      "outputs": [
        {
          "output_type": "error",
          "ename": "NameError",
          "evalue": "ignored",
          "traceback": [
            "\u001b[0;31m---------------------------------------------------------------------------\u001b[0m",
            "\u001b[0;31mNameError\u001b[0m                                 Traceback (most recent call last)",
            "\u001b[0;32m<ipython-input-28-e3708a753fdd>\u001b[0m in \u001b[0;36m<cell line: 3>\u001b[0;34m()\u001b[0m\n\u001b[1;32m      1\u001b[0m \u001b[0mthistuple\u001b[0m \u001b[0;34m=\u001b[0m \u001b[0;34m(\u001b[0m\u001b[0;34m\"apple\"\u001b[0m\u001b[0;34m,\u001b[0m \u001b[0;34m\"banana\"\u001b[0m\u001b[0;34m,\u001b[0m \u001b[0;34m\"cherry\"\u001b[0m\u001b[0;34m)\u001b[0m\u001b[0;34m\u001b[0m\u001b[0;34m\u001b[0m\u001b[0m\n\u001b[1;32m      2\u001b[0m \u001b[0;32mdel\u001b[0m \u001b[0mthistuple\u001b[0m\u001b[0;34m\u001b[0m\u001b[0;34m\u001b[0m\u001b[0m\n\u001b[0;32m----> 3\u001b[0;31m \u001b[0mprint\u001b[0m\u001b[0;34m(\u001b[0m\u001b[0mthistuple\u001b[0m\u001b[0;34m)\u001b[0m\u001b[0;34m\u001b[0m\u001b[0;34m\u001b[0m\u001b[0m\n\u001b[0m\u001b[1;32m      4\u001b[0m  \u001b[0;31m#this will raise an error because the tuple no longer exists\u001b[0m\u001b[0;34m\u001b[0m\u001b[0;34m\u001b[0m\u001b[0m\n",
            "\u001b[0;31mNameError\u001b[0m: name 'thistuple' is not defined"
          ]
        }
      ]
    },
    {
      "cell_type": "markdown",
      "source": [
        "Loop Through a Tuple"
      ],
      "metadata": {
        "id": "IFXqP2W-B-Dt"
      }
    },
    {
      "cell_type": "code",
      "source": [
        "thistuple = (\"apple\", \"banana\", \"cherry\")\n",
        "for x in thistuple:\n",
        "  print(x)"
      ],
      "metadata": {
        "colab": {
          "base_uri": "https://localhost:8080/"
        },
        "id": "aPCwwjzgB-4m",
        "outputId": "1d33a803-14d5-4c5f-b436-9bc35e836a86"
      },
      "execution_count": 29,
      "outputs": [
        {
          "output_type": "stream",
          "name": "stdout",
          "text": [
            "apple\n",
            "banana\n",
            "cherry\n"
          ]
        }
      ]
    },
    {
      "cell_type": "markdown",
      "source": [
        "Loop Through the Index Numbers"
      ],
      "metadata": {
        "id": "kBNGI3idCCtU"
      }
    },
    {
      "cell_type": "code",
      "source": [
        "thistuple = (\"apple\", \"banana\", \"cherry\")\n",
        "for i in range(len(thistuple)):\n",
        "  print(thistuple[i])"
      ],
      "metadata": {
        "colab": {
          "base_uri": "https://localhost:8080/"
        },
        "id": "p1jS2kddCFkw",
        "outputId": "9399db74-7eb3-4c71-8471-61ac5f752d73"
      },
      "execution_count": 30,
      "outputs": [
        {
          "output_type": "stream",
          "name": "stdout",
          "text": [
            "apple\n",
            "banana\n",
            "cherry\n"
          ]
        }
      ]
    },
    {
      "cell_type": "markdown",
      "source": [
        "Using a While Loop"
      ],
      "metadata": {
        "id": "VaH_bEpVCNQA"
      }
    },
    {
      "cell_type": "code",
      "source": [
        "thistuple = (\"apple\", \"banana\", \"cherry\")\n",
        "i = 0\n",
        "while i < len(thistuple):\n",
        "  print(thistuple[i])\n",
        "  i = i + 1"
      ],
      "metadata": {
        "colab": {
          "base_uri": "https://localhost:8080/"
        },
        "id": "nyF5DLOUCRQu",
        "outputId": "3dd4575f-6929-401b-e000-8dcc6be9dd5f"
      },
      "execution_count": 31,
      "outputs": [
        {
          "output_type": "stream",
          "name": "stdout",
          "text": [
            "apple\n",
            "banana\n",
            "cherry\n"
          ]
        }
      ]
    },
    {
      "cell_type": "markdown",
      "source": [
        "Join Two Tuples"
      ],
      "metadata": {
        "id": "cQJNE1DmCYFU"
      }
    },
    {
      "cell_type": "code",
      "source": [
        "tuple1 = (\"a\", \"b\" , \"c\")\n",
        "tuple2 = (1, 2, 3)\n",
        "\n",
        "tuple3 = tuple1 + tuple2\n",
        "print(tuple3)"
      ],
      "metadata": {
        "colab": {
          "base_uri": "https://localhost:8080/"
        },
        "id": "pw8BJ_07CaTe",
        "outputId": "3e188ba4-266b-4f32-eeff-308555770749"
      },
      "execution_count": 32,
      "outputs": [
        {
          "output_type": "stream",
          "name": "stdout",
          "text": [
            "('a', 'b', 'c', 1, 2, 3)\n"
          ]
        }
      ]
    },
    {
      "cell_type": "markdown",
      "source": [
        "Multiply Tuples"
      ],
      "metadata": {
        "id": "T0qy2fiaCit8"
      }
    },
    {
      "cell_type": "code",
      "source": [
        "fruits = (\"apple\", \"banana\", \"cherry\")\n",
        "mytuple = fruits * 2\n",
        "\n",
        "print(mytuple)"
      ],
      "metadata": {
        "colab": {
          "base_uri": "https://localhost:8080/"
        },
        "id": "q52tqEZVCk7Y",
        "outputId": "7241b25a-ebc1-44b4-81fd-de98f982c45f"
      },
      "execution_count": 33,
      "outputs": [
        {
          "output_type": "stream",
          "name": "stdout",
          "text": [
            "('apple', 'banana', 'cherry', 'apple', 'banana', 'cherry')\n"
          ]
        }
      ]
    },
    {
      "cell_type": "markdown",
      "source": [
        "**`Tuple Methods`**"
      ],
      "metadata": {
        "id": "atsX48KCDEvr"
      }
    },
    {
      "cell_type": "code",
      "source": [
        "thistuple = (1, 3, 7, 8, 7, 5, 4, 6, 8, 5)\n",
        "\n",
        "x = thistuple.count(5)\n",
        "\n",
        "print(x)\n",
        "\n",
        "thistuple = (1, 3, 7, 8, 7, 5, 4, 6, 8, 5)\n",
        "\n",
        "x = thistuple.index(8)\n",
        "\n",
        "print(x)"
      ],
      "metadata": {
        "colab": {
          "base_uri": "https://localhost:8080/"
        },
        "id": "9R_fsL4KCsTg",
        "outputId": "da5bb604-bbfb-4adf-ed39-09519b5e3c88"
      },
      "execution_count": 34,
      "outputs": [
        {
          "output_type": "stream",
          "name": "stdout",
          "text": [
            "2\n",
            "3\n"
          ]
        }
      ]
    },
    {
      "cell_type": "markdown",
      "source": [
        "عمل تخصیص (Assignment) در تاپل‌ها"
      ],
      "metadata": {
        "id": "Grb6W7Bz7TFe"
      }
    },
    {
      "cell_type": "code",
      "source": [
        "tup1 = ('Robert', 'Carlos','1965','Terminator 1995', 'Actor','Florida');\n",
        "tup2 = (1,2,3,4,5,6,7);\n",
        "print(tup1[0])\n",
        "print(tup2[1:4])\n"
      ],
      "metadata": {
        "colab": {
          "base_uri": "https://localhost:8080/"
        },
        "id": "Qb9HJ7a87UFL",
        "outputId": "e163b8d3-9df0-4c66-cae0-e5f1f1acc315"
      },
      "execution_count": 4,
      "outputs": [
        {
          "output_type": "stream",
          "name": "stdout",
          "text": [
            "Robert\n",
            "(2, 3, 4)\n"
          ]
        }
      ]
    },
    {
      "cell_type": "markdown",
      "source": [
        "بسته‌بندی (Packing) و گشودن بسته‌بندی (Unpacking)"
      ],
      "metadata": {
        "id": "m0dXKtaB7qYw"
      }
    },
    {
      "cell_type": "code",
      "source": [
        "x = (\"Guru99\", 20, \"Education\")    # tuple packing\n",
        "(company, emp, profile) = x    # tuple unpacking\n",
        "print(company)\n",
        "print(emp)\n",
        "print(profile)\n"
      ],
      "metadata": {
        "colab": {
          "base_uri": "https://localhost:8080/"
        },
        "id": "Fhk4KoKd7rFD",
        "outputId": "a60c8961-46e2-47a3-98ea-3137631e7708"
      },
      "execution_count": 5,
      "outputs": [
        {
          "output_type": "stream",
          "name": "stdout",
          "text": [
            "Guru99\n",
            "20\n",
            "Education\n"
          ]
        }
      ]
    },
    {
      "cell_type": "markdown",
      "source": [
        "مقایسه (Comapre) تاپل‌ها"
      ],
      "metadata": {
        "id": "I3OwalmF8hdt"
      }
    },
    {
      "cell_type": "code",
      "source": [
        "a=(5,6)\n",
        "b=(1,4)\n",
        "if (a>b):print(\"a is bigger\")\n",
        "else: print(\"b is bigger\")\n"
      ],
      "metadata": {
        "colab": {
          "base_uri": "https://localhost:8080/"
        },
        "id": "VwJsS-q28ekg",
        "outputId": "893cfec4-0782-4dc1-93fb-097f45439d63"
      },
      "execution_count": 6,
      "outputs": [
        {
          "output_type": "stream",
          "name": "stdout",
          "text": [
            "a is bigger\n"
          ]
        }
      ]
    },
    {
      "cell_type": "code",
      "source": [
        "a=(5,6)\n",
        "b=(5,4)\n",
        "if (a>b):print(\"a is bigger\")\n",
        "else: print (\"b is bigger\")\n"
      ],
      "metadata": {
        "colab": {
          "base_uri": "https://localhost:8080/"
        },
        "id": "f8y0pkr-8srD",
        "outputId": "7cfe522d-014f-4a6b-8d29-e05235ce6e6e"
      },
      "execution_count": 7,
      "outputs": [
        {
          "output_type": "stream",
          "name": "stdout",
          "text": [
            "a is bigger\n"
          ]
        }
      ]
    },
    {
      "cell_type": "code",
      "source": [
        "a=(5,6)\n",
        "b=(6,4)\n",
        "if (a>b):print(\"a is bigger\")\n",
        "else: print(\"b is bigger\")\n"
      ],
      "metadata": {
        "colab": {
          "base_uri": "https://localhost:8080/"
        },
        "id": "-0kPn0pf8wTG",
        "outputId": "d1442e84-c1ea-4c24-b704-6c2a7f658e11"
      },
      "execution_count": 8,
      "outputs": [
        {
          "output_type": "stream",
          "name": "stdout",
          "text": [
            "b is bigger\n"
          ]
        }
      ]
    },
    {
      "cell_type": "markdown",
      "source": [
        "بخش‌بندی (Slicing) یک تاپل"
      ],
      "metadata": {
        "id": "0OuVefs-9olS"
      }
    },
    {
      "cell_type": "code",
      "source": [
        "x = (\"a\", \"b\",\"c\", \"d\", \"e\")\n",
        "print(x[2:4])\n"
      ],
      "metadata": {
        "colab": {
          "base_uri": "https://localhost:8080/"
        },
        "id": "albYa0HN9pTl",
        "outputId": "003f6703-6450-4054-f7b6-02bb113f7584"
      },
      "execution_count": 9,
      "outputs": [
        {
          "output_type": "stream",
          "name": "stdout",
          "text": [
            "('c', 'd')\n"
          ]
        }
      ]
    },
    {
      "cell_type": "markdown",
      "source": [
        "مثال کلی"
      ],
      "metadata": {
        "id": "GtCa1bOP9xY7"
      }
    },
    {
      "cell_type": "code",
      "source": [
        "tup1 = ('Robert', 'Carlos','1965','Terminator 1995', 'Actor','Florida');\n",
        "tup2 = (1,2,3,4,5,6,7);\n",
        "print(tup1[0])\n",
        "print(tup2[1:4])\n",
        "#Packing and Unpacking\n",
        "x = (\"Guru99\", 20, \"Education\")    # tuple packing\n",
        "(company, emp, profile) = x    # tuple unpacking\n",
        "print(company)\n",
        "print(emp)\n",
        "print (profile)\n",
        "\n",
        "#Comparing tuples\n",
        "#case 1\n",
        "a=(5,6)\n",
        "b=(1,4)\n",
        "if (a>b):print (\"a is bigger\")\n",
        "else: print (\"b is bigger\")\n",
        "\n",
        "#case 2\n",
        "a=(5,6)\n",
        "b=(5,4)\n",
        "if (a>b):print (\"a is bigger\")\n",
        "else: print (\"b is bigger\")\n",
        "\n",
        "#case 3\n",
        "a=(5,6)\n",
        "b=(6,4)\n",
        "if (a>b):print (\"a is bigger\")\n",
        "else: print (\"b is bigger\")\n",
        "\n",
        "#Tuples and dictionary\n",
        "a = {'x':100, 'y':200}\n",
        "b = a.items()\n",
        "print (b)\n",
        "\n",
        "#Slicing of Tuple\n",
        "x = (\"a\", \"b\",\"c\", \"d\", \"e\")\n",
        "print (x[2:4])\n"
      ],
      "metadata": {
        "colab": {
          "base_uri": "https://localhost:8080/"
        },
        "id": "-EHx6hjS9zGL",
        "outputId": "c0f43194-81d9-42ad-e267-a2fc41f58f12"
      },
      "execution_count": 13,
      "outputs": [
        {
          "output_type": "stream",
          "name": "stdout",
          "text": [
            "Robert\n",
            "(2, 3, 4)\n",
            "Guru99\n",
            "20\n",
            "Education\n",
            "a is bigger\n",
            "a is bigger\n",
            "b is bigger\n",
            "dict_items([('x', 100), ('y', 200)])\n",
            "('c', 'd')\n"
          ]
        }
      ]
    }
  ]
}