{
  "nbformat": 4,
  "nbformat_minor": 0,
  "metadata": {
    "colab": {
      "provenance": [],
      "authorship_tag": "ABX9TyMzN871PrSi/p3DDrjcYLqr",
      "include_colab_link": true
    },
    "kernelspec": {
      "name": "python3",
      "display_name": "Python 3"
    },
    "language_info": {
      "name": "python"
    }
  },
  "cells": [
    {
      "cell_type": "markdown",
      "metadata": {
        "id": "view-in-github",
        "colab_type": "text"
      },
      "source": [
        "<a href=\"https://colab.research.google.com/github/manizheh-saf/manizheh-saf/blob/main/Untitled26.ipynb\" target=\"_parent\"><img src=\"https://colab.research.google.com/assets/colab-badge.svg\" alt=\"Open In Colab\"/></a>"
      ]
    },
    {
      "cell_type": "code",
      "execution_count": 5,
      "metadata": {
        "colab": {
          "base_uri": "https://localhost:8080/"
        },
        "id": "Taa8vst-pGrt",
        "outputId": "86b212a2-0223-4a91-8bdd-cdde01c2892a"
      },
      "outputs": [
        {
          "output_type": "stream",
          "name": "stdout",
          "text": [
            "enter N:20\n",
            "2\t3\t5\t7\t11\t13\t17\t19\t"
          ]
        }
      ],
      "source": [
        "n=int(input(\"enter N:\"))\n",
        "\n",
        "for num in range(2,n):\n",
        "\n",
        "     count = 0;\n",
        "     for i in range(2,num):\n",
        "            if(num%i==0):\n",
        "                count=count+1\n",
        "                break\n",
        "     if(count==0):\n",
        "       print( num,end=\"\\t\")\n"
      ]
    }
  ]
}